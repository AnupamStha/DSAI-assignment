{
 "cells": [
  {
   "cell_type": "markdown",
   "metadata": {},
   "source": [
    "Modify the Gradient Boosting scratch code in our lecture such that:\n",
    "- Notice that we are still using max_depth = 1.  Attempt to tweak min_samples_split, max_depth for the regression and see whether we can achieve better mse on our boston data\n",
    "- Notice that we only write scratch code for gradient boosting for regression, add some code so that it also works for binary classification.  Load the breast cancer data from sklearn and see that it works.\n",
    "- Further change the code so that it works for multiclass classification.  Load the digits data from sklearn and see that it works\n",
    "- Put everything into class"
   ]
  },
  {
   "cell_type": "code",
   "execution_count": 20,
   "metadata": {},
   "outputs": [],
   "source": [
    "from scipy.special import expit\n",
    "from sklearn.tree import DecisionTreeRegressor\n",
    "from sklearn.dummy import DummyRegressor\n",
    "from sklearn.model_selection import train_test_split\n",
    "import numpy as np\n",
    "import matplotlib.pyplot as plt\n",
    "from sklearn.datasets import load_boston\n",
    "from sklearn.metrics import mean_squared_error\n",
    "from sklearn.ensemble import GradientBoostingRegressor\n",
    "from sklearn.metrics import accuracy_score\n",
    "from sklearn.datasets import load_breast_cancer\n",
    "from sklearn.ensemble import GradientBoostingClassifier\n",
    "from sklearn.datasets import load_digits"
   ]
  },
  {
   "cell_type": "code",
   "execution_count": 21,
   "metadata": {},
   "outputs": [],
   "source": [
    "class GradientBoosting:\n",
    "    def __init__(self, S, learning_rate, max_depth, min_samples_split,regression=True):\n",
    "        self.S = S\n",
    "        self.learning_rate = learning_rate\n",
    "        self.max_depth = max_depth\n",
    "        self.min_samples_split = min_samples_split\n",
    "        self.regression = regression\n",
    "        tree_params = {'max_depth':self.max_depth, 'min_samples_split':self.min_samples_split}\n",
    "        self.models =[DecisionTreeRegressor(**tree_params) for _ in range (S)]\n",
    "        first_model = DummyRegressor(strategy='mean')\n",
    "        self.models.insert(0, first_model)\n",
    "        \n",
    "    def grad(self,y,h):\n",
    "        return y-h\n",
    "    \n",
    "    def softmax(self,z):\n",
    "        soft =  np.exp(z) / np.sum(np.exp(z), axis=1, keepdims=True)\n",
    "        return soft\n",
    "    \n",
    "    def fit(self,X, y):\n",
    "        \n",
    "        self.models[0].fit(X,y)\n",
    "        for i in range(self.S):\n",
    "            yhat = self.predict(X, self.models[:i+1], with_argmax=False)\n",
    "            residual = self.grad(y, yhat)\n",
    "            self.models[i+1].fit(X, residual)\n",
    "        \n",
    "    def predict(self, X, models=None, with_argmax=True):\n",
    "        if models is None:\n",
    "            models=self.models\n",
    "\n",
    "        f0 = models[0].predict(X)\n",
    "        boosting = sum(self.learning_rate*model.predict(X) for model in models[1:])\n",
    "        yhat = f0+boosting\n",
    "        if not self.regression:\n",
    "            yhat = self.softmax(yhat)\n",
    "            if with_argmax:\n",
    "                yhat = np.argmax(yhat, axis =1)\n",
    "        return yhat\n",
    "    "
   ]
  },
  {
   "cell_type": "code",
   "execution_count": 22,
   "metadata": {},
   "outputs": [
    {
     "name": "stdout",
     "output_type": "stream",
     "text": [
      "MSE for model 1:  12.945557601580582\n",
      "MSE for model 2:  7.934273216916185\n"
     ]
    }
   ],
   "source": [
    "# Regression\n",
    "X, y = load_boston(return_X_y=True)\n",
    "X_train, X_test, y_train, y_test = train_test_split(X, y, test_size=0.3, random_state=42)\n",
    "model1 = GradientBoosting(S=200, learning_rate =0.1, max_depth = 1, min_samples_split=2,regression=True)\n",
    "model1.fit(X_train, y_train)\n",
    "yhat = model1.predict(X_test)\n",
    "print(\"MSE for model 1: \", mean_squared_error(y_test, yhat))\n",
    "\n",
    "model2 = GradientBoosting(S=200, learning_rate =0.1, max_depth = 3, min_samples_split=3,regression=True)\n",
    "model2.fit(X_train, y_train)\n",
    "yhat = model2.predict(X_test)\n",
    "print(\"MSE for model 2: \", mean_squared_error(y_test, yhat))\n"
   ]
  },
  {
   "cell_type": "markdown",
   "metadata": {},
   "source": [
    "<b> Mean square error decrease when we increase max_depth and min_samples_split<b>"
   ]
  },
  {
   "cell_type": "code",
   "execution_count": 23,
   "metadata": {},
   "outputs": [
    {
     "name": "stdout",
     "output_type": "stream",
     "text": [
      "Accuracy for Binary classificaton: 0.9649122807017544\n"
     ]
    }
   ],
   "source": [
    "#Binary Classification\n",
    "X,y = load_breast_cancer(return_X_y=True)\n",
    "X_train,X_test,y_train,y_test = train_test_split(X, y, test_size=0.3, random_state=42)\n",
    "y_train_encoded = np.zeros((y_train.shape[0], len(set(y))))\n",
    "for each_class in range(len(set(y))):\n",
    "    cond = y_train==each_class\n",
    "    y_train_encoded[np.where(cond), each_class]=1\n",
    "\n",
    "model = GradientBoosting(S=200, learning_rate=0.1, max_depth=3, min_samples_split=3,regression=False)\n",
    "model.fit(X_train, y_train_encoded)\n",
    "yhat = model.predict(X_test)\n",
    "print(\"Accuracy for Binary classificaton:\", accuracy_score(y_test,yhat))"
   ]
  },
  {
   "cell_type": "code",
   "execution_count": 24,
   "metadata": {},
   "outputs": [
    {
     "name": "stdout",
     "output_type": "stream",
     "text": [
      "Accuracy for Multiclass classificaton: 0.9314814814814815\n"
     ]
    }
   ],
   "source": [
    "# Multiclass classification\n",
    "X,y = load_digits(return_X_y=True)\n",
    "X_train,X_test,y_train,y_test = train_test_split(X, y, test_size=0.3, random_state=42)\n",
    "y_train_encoded = np.zeros((y_train.shape[0],len(set(y))))\n",
    "for each_class in range(len(set(y))):\n",
    "    cond = y_train==each_class\n",
    "    y_train_encoded[np.where(cond),each_class]=1\n",
    "\n",
    "model = GradientBoosting(S=200, learning_rate=0.1, max_depth=3, min_samples_split=3,regression=False)\n",
    "model.fit(X_train,y_train_encoded)\n",
    "yhat = model.predict(X_test)\n",
    "print(\"Accuracy for Multiclass classificaton:\", accuracy_score(y_test,yhat))"
   ]
  },
  {
   "cell_type": "code",
   "execution_count": null,
   "metadata": {},
   "outputs": [],
   "source": []
  }
 ],
 "metadata": {
  "kernelspec": {
   "display_name": "Python 3 (ipykernel)",
   "language": "python",
   "name": "python3"
  },
  "language_info": {
   "codemirror_mode": {
    "name": "ipython",
    "version": 3
   },
   "file_extension": ".py",
   "mimetype": "text/x-python",
   "name": "python",
   "nbconvert_exporter": "python",
   "pygments_lexer": "ipython3",
   "version": "3.8.3"
  }
 },
 "nbformat": 4,
 "nbformat_minor": 4
}
